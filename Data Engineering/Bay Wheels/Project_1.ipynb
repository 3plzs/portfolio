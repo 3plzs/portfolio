{
 "cells": [
  {
   "cell_type": "markdown",
   "metadata": {},
   "source": [
    "## Part 3 - Bikeshare Dataset Project"
   ]
  },
  {
   "cell_type": "code",
   "execution_count": 116,
   "metadata": {},
   "outputs": [],
   "source": [
    "import pandas as pd\n",
    "import matplotlib.pyplot as plt\n",
    "%reload_ext google.cloud.bigquery"
   ]
  },
  {
   "cell_type": "markdown",
   "metadata": {},
   "source": [
    "### What are the three most popular trips overall?"
   ]
  },
  {
   "cell_type": "code",
   "execution_count": 95,
   "metadata": {},
   "outputs": [
    {
     "name": "stdout",
     "output_type": "stream",
     "text": [
      "Waiting on bqjob_r447ec2f60893f375_00000174e4a8032b_1 ... (0s) Current status: DONE   \n",
      "+-------+-----------------------------------------+--------------------------------------+\n",
      "| count |           start_station_name            |           end_station_name           |\n",
      "+-------+-----------------------------------------+--------------------------------------+\n",
      "|  9150 | Harry Bridges Plaza (Ferry Building)    | Embarcadero at Sansome               |\n",
      "|  8508 | San Francisco Caltrain 2 (330 Townsend) | Townsend at 7th                      |\n",
      "|  7620 | 2nd at Townsend                         | Harry Bridges Plaza (Ferry Building) |\n",
      "+-------+-----------------------------------------+--------------------------------------+\n"
     ]
    }
   ],
   "source": [
    "! bq query --use_legacy_sql=false 'SELECT COUNT(*) as count, start_station_name, end_station_name \\\n",
    "FROM `innate-mapper-287722.bike_trip_data.trips_all` \\\n",
    "WHERE start_station_name != end_station_name \\\n",
    "GROUP BY start_station_name, end_station_name \\\n",
    "ORDER BY count DESC \\\n",
    "LIMIT 3'"
   ]
  },
  {
   "cell_type": "markdown",
   "metadata": {},
   "source": [
    "### What are the 5 most popular trips that you would call \"commuter trips\"?\n",
    "  "
   ]
  },
  {
   "cell_type": "markdown",
   "metadata": {},
   "source": [
    "Exploring the dataset, one notices that a large number of the trips certain around hours when people tend to commute to and from work. This can be seen in the table below."
   ]
  },
  {
   "cell_type": "code",
   "execution_count": 98,
   "metadata": {},
   "outputs": [
    {
     "name": "stdout",
     "output_type": "stream",
     "text": [
      "Waiting on bqjob_r5130cb70d61298a1_00000174e4b07f42_1 ... (0s) Current status: DONE   \n",
      "+--------+------+\n",
      "| count  | hour |\n",
      "+--------+------+\n",
      "| 132464 |    8 |\n",
      "| 126302 |   17 |\n",
      "|  96118 |    9 |\n",
      "|  88755 |   16 |\n",
      "|  84569 |   18 |\n",
      "+--------+------+\n"
     ]
    }
   ],
   "source": [
    "! bq query --use_legacy_sql=false ' \\\n",
    "SELECT COUNT(*) as count, EXTRACT(HOUR from start_date) as hour \\\n",
    "FROM `innate-mapper-287722.bike_trip_data.trips_all` \\\n",
    "GROUP BY hour \\\n",
    "ORDER BY count DESC\\\n",
    "LIMIT 5'"
   ]
  },
  {
   "cell_type": "markdown",
   "metadata": {},
   "source": [
    "Given these times centered around commute times, the most popular \"commuter trips\" between two stations can be seen below with their respective count."
   ]
  },
  {
   "cell_type": "code",
   "execution_count": 114,
   "metadata": {},
   "outputs": [
    {
     "name": "stderr",
     "output_type": "stream",
     "text": [
      "/opt/conda/lib/python3.7/site-packages/google/cloud/bigquery/client.py:407: UserWarning: Cannot create BigQuery Storage client, the dependency google-cloud-bigquery-storage is not installed.\n",
      "  \"Cannot create BigQuery Storage client, the dependency \"\n"
     ]
    }
   ],
   "source": [
    "%%bigquery --use_rest_api commute_trips\n",
    "\n",
    "SELECT COUNT(*) as count, start_station_name, end_station_name\n",
    "FROM `innate-mapper-287722.bike_trip_data.trips_all`\n",
    "WHERE start_station_name != end_station_name AND \n",
    "EXTRACT(HOUR FROM start_date)=8 OR\n",
    "EXTRACT(HOUR FROM start_date)=9 OR\n",
    "EXTRACT(HOUR FROM start_date)=16 OR\n",
    "EXTRACT(HOUR FROM start_date)=17 OR\n",
    "EXTRACT(HOUR FROM start_date)=18\n",
    "GROUP BY start_station_name, end_station_name\n",
    "ORDER BY count DESC\n",
    "LIMIT 5"
   ]
  },
  {
   "cell_type": "code",
   "execution_count": 115,
   "metadata": {},
   "outputs": [
    {
     "data": {
      "text/html": [
       "<div>\n",
       "<style scoped>\n",
       "    .dataframe tbody tr th:only-of-type {\n",
       "        vertical-align: middle;\n",
       "    }\n",
       "\n",
       "    .dataframe tbody tr th {\n",
       "        vertical-align: top;\n",
       "    }\n",
       "\n",
       "    .dataframe thead th {\n",
       "        text-align: right;\n",
       "    }\n",
       "</style>\n",
       "<table border=\"1\" class=\"dataframe\">\n",
       "  <thead>\n",
       "    <tr style=\"text-align: right;\">\n",
       "      <th></th>\n",
       "      <th>count</th>\n",
       "      <th>start_station_name</th>\n",
       "      <th>end_station_name</th>\n",
       "    </tr>\n",
       "  </thead>\n",
       "  <tbody>\n",
       "    <tr>\n",
       "      <th>0</th>\n",
       "      <td>5213</td>\n",
       "      <td>2nd at Townsend</td>\n",
       "      <td>Harry Bridges Plaza (Ferry Building)</td>\n",
       "    </tr>\n",
       "    <tr>\n",
       "      <th>1</th>\n",
       "      <td>4884</td>\n",
       "      <td>Embarcadero at Sansome</td>\n",
       "      <td>Steuart at Market</td>\n",
       "    </tr>\n",
       "    <tr>\n",
       "      <th>2</th>\n",
       "      <td>4592</td>\n",
       "      <td>San Francisco Caltrain 2 (330 Townsend)</td>\n",
       "      <td>Townsend at 7th</td>\n",
       "    </tr>\n",
       "    <tr>\n",
       "      <th>3</th>\n",
       "      <td>4522</td>\n",
       "      <td>Harry Bridges Plaza (Ferry Building)</td>\n",
       "      <td>2nd at Townsend</td>\n",
       "    </tr>\n",
       "    <tr>\n",
       "      <th>4</th>\n",
       "      <td>4486</td>\n",
       "      <td>Embarcadero at Folsom</td>\n",
       "      <td>San Francisco Caltrain (Townsend at 4th)</td>\n",
       "    </tr>\n",
       "  </tbody>\n",
       "</table>\n",
       "</div>"
      ],
      "text/plain": [
       "   count                       start_station_name  \\\n",
       "0   5213                          2nd at Townsend   \n",
       "1   4884                   Embarcadero at Sansome   \n",
       "2   4592  San Francisco Caltrain 2 (330 Townsend)   \n",
       "3   4522     Harry Bridges Plaza (Ferry Building)   \n",
       "4   4486                    Embarcadero at Folsom   \n",
       "\n",
       "                           end_station_name  \n",
       "0      Harry Bridges Plaza (Ferry Building)  \n",
       "1                         Steuart at Market  \n",
       "2                           Townsend at 7th  \n",
       "3                           2nd at Townsend  \n",
       "4  San Francisco Caltrain (Townsend at 4th)  "
      ]
     },
     "execution_count": 115,
     "metadata": {},
     "output_type": "execute_result"
    }
   ],
   "source": [
    "commute_trips"
   ]
  },
  {
   "cell_type": "markdown",
   "metadata": {},
   "source": [
    "### Weekend trips and weekday trips"
   ]
  },
  {
   "cell_type": "markdown",
   "metadata": {},
   "source": [
    "A significantly larger number of trips occur at 8 am and 5pm, as well during the hours around these times. Since most people work on weekdays, however, there could exist a difference in the distribution of trips throughout the day between weekdays and weekends. To explore that, I create two datasets containing weekend trips and weekday trips and plot the distribution of trips throughout the day."
   ]
  },
  {
   "cell_type": "code",
   "execution_count": 85,
   "metadata": {},
   "outputs": [],
   "source": [
    "%%bigquery --use_rest_api trip_times_weekdays\n",
    "\n",
    "SELECT COUNT(*) as count, EXTRACT(HOUR from start_date) as hour\n",
    "FROM `innate-mapper-287722.bike_trip_data.bike_trips_weekdays`\n",
    "GROUP BY hour\n",
    "ORDER BY count DESC"
   ]
  },
  {
   "cell_type": "code",
   "execution_count": 88,
   "metadata": {},
   "outputs": [],
   "source": [
    "%%bigquery --use_rest_api trip_times_weekends\n",
    "\n",
    "SELECT COUNT(*) as count, EXTRACT(HOUR from start_date) as hour\n",
    "FROM `innate-mapper-287722.bike_trip_data.bike_trips_weekends`\n",
    "GROUP BY hour\n",
    "ORDER BY count DESC"
   ]
  },
  {
   "cell_type": "markdown",
   "metadata": {},
   "source": [
    "Here is the SQL for the tables 'bike_trips_weekdays' and 'bike_trips_weekends'\n",
    "\n",
    "#### bike_trips_weekdays\n",
    "```\n",
    "SELECT *\n",
    "FROM `innate-mapper-287722.bike_trip_data.trips_all`\n",
    "WHERE EXTRACT(DAYOFWEEK FROM start_date)<=5\n",
    "````\n",
    "#### bike_trips_weekends\n",
    "```\n",
    "SELECT *\n",
    "FROM `innate-mapper-287722.bike_trip_data.trips_all`\n",
    "WHERE EXTRACT(DAYOFWEEK FROM start_date)>5\n",
    "```"
   ]
  },
  {
   "cell_type": "code",
   "execution_count": 108,
   "metadata": {},
   "outputs": [
    {
     "data": {
      "text/plain": [
       "Text(0.5, 1.0, 'Distribution of trips in weekends')"
      ]
     },
     "execution_count": 108,
     "metadata": {},
     "output_type": "execute_result"
    },
    {
     "data": {
      "image/png": "[encoded data removed]",
      "text/plain": [
       "<Figure size 1296x432 with 2 Axes>"
      ]
     },
     "metadata": {
      "needs_background": "light"
     },
     "output_type": "display_data"
    }
   ],
   "source": [
    "fig, ax = plt.subplots(1, 2, figsize=(18,6))\n",
    "ax[0].bar(trip_times_weekdays['hour'], trip_times_weekdays['count'])\n",
    "ax[0].set_ylabel('Number of trips')\n",
    "ax[0].set_xlabel('Hour of day')\n",
    "ax[0].set_title('Distribution of trips in weekdays')\n",
    "\n",
    "ax[1].bar(trip_times_weekends['hour'], trip_times_weekends['count'])\n",
    "ax[1].set_ylabel('Number of trips')\n",
    "ax[1].set_xlabel('Hour of day')\n",
    "ax[1].set_title('Distribution of trips in weekends')"
   ]
  },
  {
   "cell_type": "markdown",
   "metadata": {},
   "source": [
    "As we can see from the plots above, during weekdays there are more trips centered around the two peak hours, 8am and 5pm (when people tend to commute). During weekends, however, the distribution around these aforementioned times is not as distinct (compared to weekdays). Though there still exists a \"slump\" from 9am to 4pm, there seem to be proportionally more trips during the afternoon hours on weekends."
   ]
  },
  {
   "cell_type": "markdown",
   "metadata": {},
   "source": [
    "In order to understand the distribution of trips throughout the week, I create the following dataset and then visualize the number of trips per day."
   ]
  },
  {
   "cell_type": "code",
   "execution_count": 9,
   "metadata": {
    "collapsed": true,
    "jupyter": {
     "outputs_hidden": true
    }
   },
   "outputs": [
    {
     "name": "stderr",
     "output_type": "stream",
     "text": [
      "/opt/conda/lib/python3.7/site-packages/google/cloud/bigquery/client.py:407: UserWarning: Cannot create BigQuery Storage client, the dependency google-cloud-bigquery-storage is not installed.\n",
      "  \"Cannot create BigQuery Storage client, the dependency \"\n"
     ]
    }
   ],
   "source": [
    "%%bigquery --use_rest_api trips_by_day\n",
    "\n",
    "SELECT COUNT(*) as ct, day AS day FROM(\n",
    "SELECT CASE\n",
    "WHEN day=1 THEN \"Sunday\" WHEN day=2 THEN \"Monday\"\n",
    "WHEN day=3 then \"Tuesday\" WHEN day=4 THEN \"Wednesday\"\n",
    "WHEN day=5 THEN \"Thursday\" WHEN day=6 THEN \"Friday\"\n",
    "WHEN day=7 THEN \"Saturday\" END AS day FROM\n",
    "(SELECT EXTRACT(DAYOFWEEK FROM start_date AT TIME ZONE \"UTC\") AS day\n",
    "FROM `bigquery-public-data.san_francisco.bikeshare_trips`))\n",
    "GROUP BY day"
   ]
  },
  {
   "cell_type": "code",
   "execution_count": 39,
   "metadata": {},
   "outputs": [
    {
     "data": {
      "text/plain": [
       "Text(0.5, 1.0, 'Total number of trips by day of the week')"
      ]
     },
     "execution_count": 39,
     "metadata": {},
     "output_type": "execute_result"
    },
    {
     "data": {
      "image/png": "[encoded data removed]",
      "text/plain": [
       "<Figure size 864x576 with 1 Axes>"
      ]
     },
     "metadata": {
      "needs_background": "light"
     },
     "output_type": "display_data"
    }
   ],
   "source": [
    "trips_by_day['day_id'] = [4,7,5,2,6,1,3]\n",
    "trips_by_day.sort_values('day_id')\n",
    "fig, ax = plt.subplots(figsize=(12,8))\n",
    "ax.bar(trips_by_day['day_id'], trips_by_day['ct'])\n",
    "ax.set_xticks([x for x in trips_by_day['day_id']])\n",
    "ax.set_xticklabels(trips_by_day['day'])\n",
    "ax.set_ylabel('Total number of trips')\n",
    "ax.set_title('Total number of trips by day of the week')"
   ]
  },
  {
   "cell_type": "markdown",
   "metadata": {},
   "source": [
    "As we can see in the plot above, trips happening in the weekend are significantly lower compared to trips happening on weekdays. This could indicate that a large proportion of the trips are for commuting purposes."
   ]
  },
  {
   "cell_type": "markdown",
   "metadata": {},
   "source": [
    "### Subscribers vs. Customers"
   ]
  },
  {
   "cell_type": "markdown",
   "metadata": {},
   "source": [
    "To explore how many bike trips are done by customers and how many by subscribers, I create the following dataset, process it, and plot it accordingly."
   ]
  },
  {
   "cell_type": "code",
   "execution_count": 43,
   "metadata": {
    "collapsed": true,
    "jupyter": {
     "outputs_hidden": true
    }
   },
   "outputs": [
    {
     "name": "stderr",
     "output_type": "stream",
     "text": [
      "/opt/conda/lib/python3.7/site-packages/google/cloud/bigquery/client.py:407: UserWarning: Cannot create BigQuery Storage client, the dependency google-cloud-bigquery-storage is not installed.\n",
      "  \"Cannot create BigQuery Storage client, the dependency \"\n"
     ]
    }
   ],
   "source": [
    "%%bigquery --use_rest_api subscribers_vs_customers\n",
    "\n",
    "SELECT COUNT(*) as count, EXTRACT(DAYOFWEEK FROM start_date) as day, subscriber_type as type_of_customer\n",
    "FROM `innate-mapper-287722.bike_trip_data.trips_all`\n",
    "GROUP BY day, type_of_customer\n",
    "ORDER BY day"
   ]
  },
  {
   "cell_type": "code",
   "execution_count": 59,
   "metadata": {},
   "outputs": [],
   "source": [
    "#subscribers_vs_customers\n",
    "customers = [0,0]\n",
    "subscribers = [0,0]\n",
    "for i in range(len(subscribers_vs_customers)):\n",
    "    if subscribers_vs_customers.iloc[i]['day']<=5 and subscribers_vs_customers.iloc[i]['type_of_customer']=='Subscriber':\n",
    "        subscribers[0] += subscribers_vs_customers.iloc[i]['count']\n",
    "    elif subscribers_vs_customers.iloc[i]['day']>5 and subscribers_vs_customers.iloc[i]['type_of_customer']=='Subscriber':\n",
    "        subscribers[1] += subscribers_vs_customers.iloc[i]['count']\n",
    "    elif subscribers_vs_customers.iloc[i]['day']<=5 and subscribers_vs_customers.iloc[i]['type_of_customer']=='Customer':\n",
    "        customers[0] += subscribers_vs_customers.iloc[i]['count']\n",
    "    else:\n",
    "        customers[1] += subscribers_vs_customers.iloc[i]['count']"
   ]
  },
  {
   "cell_type": "code",
   "execution_count": 77,
   "metadata": {},
   "outputs": [
    {
     "data": {
      "text/plain": [
       "Text(0, 0.5, 'Number of trips')"
      ]
     },
     "execution_count": 77,
     "metadata": {},
     "output_type": "execute_result"
    },
    {
     "data": {
      "image/png": "[encoded data removed]",
      "text/plain": [
       "<Figure size 864x288 with 2 Axes>"
      ]
     },
     "metadata": {
      "needs_background": "light"
     },
     "output_type": "display_data"
    }
   ],
   "source": [
    "fig, ax = plt.subplots(1,2, figsize=(12,4))\n",
    "ax[0].bar(['Customers weekdays', 'Subscribers weekdays'],[customers[0],subscribers[0]])\n",
    "ax[0].set_title('Proportion of customer vs. subscriber weekday trips')\n",
    "ax[1].bar(['Customers weekends', 'Subscribers weekends'],[customers[1],subscribers[1]])\n",
    "ax[1].set_title('Proportion of customer vs. subscriber weekend trips')\n",
    "ax[0].set_ylabel('Number of trips')"
   ]
  },
  {
   "cell_type": "markdown",
   "metadata": {},
   "source": [
    "As we can see in the plot above, there are relatively more customer trips happening on weekends. Given the data from the plots before, this might mean that individuals that commute more tend to be subscribers while individuals who rent bikes for leisure do so more during the weekend. There is no high incentive for leisure riders to buy subscriptions since they do not use the bikes on a daily basis. There is, however, a market that could be explored. "
   ]
  },
  {
   "cell_type": "markdown",
   "metadata": {},
   "source": [
    "### Tourists and Visitors"
   ]
  },
  {
   "cell_type": "markdown",
   "metadata": {},
   "source": [
    "Another market that could be explored is that of tourists and visitors. The San Francisco Travel Association reported [25.8 million tourists visited San Francisco in 2018](https://www.sftravel.com/article/san-francisco-travel-reports-record-breaking-tourism-levels-2018-gives-projections-2019#:~:text=San%20Francisco%20Travel%20is%20reporting,over%2025.5%20million%20in%202017.). Some of the most popular tourist and commercial attractions in San Francisco can be found in the Embarcadero and North Beach area, such as the Ferry Building, the Piers, various museums (such as the Exploratorium), and Fisherman's Wharf. This is somewhat reflected in the most popular trips table especially when we filter the data to get weekend data (as shown below)."
   ]
  },
  {
   "cell_type": "code",
   "execution_count": 112,
   "metadata": {},
   "outputs": [
    {
     "name": "stdout",
     "output_type": "stream",
     "text": [
      "Waiting on bqjob_r3996c6ee0842d931_00000174e4f971ee_1 ... (0s) Current status: DONE   \n",
      "+-------+------------------------------------------+--------------------------------------+\n",
      "| count |            start_station_name            |           end_station_name           |\n",
      "+-------+------------------------------------------+--------------------------------------+\n",
      "|  2663 | Harry Bridges Plaza (Ferry Building)     | Embarcadero at Sansome               |\n",
      "|  1603 | 2nd at Townsend                          | Harry Bridges Plaza (Ferry Building) |\n",
      "|  1594 | San Francisco Caltrain 2 (330 Townsend)  | Townsend at 7th                      |\n",
      "|  1501 | San Francisco Caltrain (Townsend at 4th) | Harry Bridges Plaza (Ferry Building) |\n",
      "|  1419 | Embarcadero at Sansome                   | Steuart at Market                    |\n",
      "+-------+------------------------------------------+--------------------------------------+\n"
     ]
    }
   ],
   "source": [
    "! bq query --use_legacy_sql=false 'SELECT COUNT(*) as count, start_station_name, end_station_name \\\n",
    "FROM `innate-mapper-287722.bike_trip_data.trips_all` \\\n",
    "WHERE start_station_name != end_station_name \\\n",
    "AND EXTRACT(DAYOFWEEK FROM start_date)>5 \\\n",
    "GROUP BY start_station_name, end_station_name \\\n",
    "ORDER BY count DESC \\\n",
    "LIMIT 5'"
   ]
  },
  {
   "cell_type": "markdown",
   "metadata": {},
   "source": [
    "As we see, the most popular trip is from the Ferry Building to Embarcadero at Sansome. Another popular trip is 2nd at Townsend to Ferry Building. It should be taken into account that 2nd at Townsend is in close proximity to Oracle Park which hosts the San Francisco Giants team. Many gamegoers might choose bike as their preferred means of transportation, possibly explaining some of the data."
   ]
  },
  {
   "cell_type": "markdown",
   "metadata": {},
   "source": [
    "## Proposals"
   ]
  },
  {
   "cell_type": "markdown",
   "metadata": {},
   "source": [
    "Given the data above, I propose the following subscription offers are adopted.\n",
    "\n",
    "### Weekend Rider Subscription\n",
    "\n",
    "Since there is no incentive for leisure riders to subscribe, the company could create weekend subscriptions, at a lower price than normal subscriptions that will allow individuals to have a number of bike rides during the weekend. This could benefit all types of leisure riders, such as the aforementioned gamegoers, who use the bikes often but are not willing to commit to a monthly or a yearly subscription. For comparison purposes, a monthly subscription costs 15 dollars while a yearly subscription costs 149 dollars. A weekend subscription could cost around 5 dollars per month.\n",
    "\n",
    "### Commuter Subscription\n",
    "\n",
    "Analogously to how leisure riders might want to escape paying for monthly subscriptions because they do not use the bikes during weekdays, commuters might not want to pay for weekend trips. An option to consider could, thus, be to release a Commuter Subscription that does not cover weekends but comes at a reduced price compared to the current rates.\n",
    "\n",
    "### Visitor Pass\n",
    "\n",
    "Given the large number of individuals that visit San Francisco every year, it could potentially be a good option to create Visitor Passes that will both benefit the company and the customers in terms of pricing. A good way to implement that would be to create a system that allows individuals to input the numbers of days they will be visiting and gives them the option of buying a discounted pass for that number of days.\n",
    "\n",
    "### Weekend \"Happy Hours\"\n",
    "\n",
    "The most striking of the patterns in the data is the huge difference in the number of weekend trips compared to weekday trips. It could, therefore, make an important difference in revenues if the company were to seek ways to incentivize people to use the bikes during the weekend. For this, I propose that they implement a system of \"Happy Hours\" during low demand hours (mostly in the afternoon) in the weekend. At that time, bikes could be offerred at lower prices or a \"1+1\" scheme could be implemented where customers can unlock a second bike for free."
   ]
  }
 ],
 "metadata": {
  "environment": {
   "name": "tf2-2-3-gpu.2-3.m55",
   "type": "gcloud",
   "uri": "gcr.io/deeplearning-platform-release/tf2-2-3-gpu.2-3:m55"
  },
  "kernelspec": {
   "display_name": "Python 3",
   "language": "python",
   "name": "python3"
  },
  "language_info": {
   "codemirror_mode": {
    "name": "ipython",
    "version": 3
   },
   "file_extension": ".py",
   "mimetype": "text/x-python",
   "name": "python",
   "nbconvert_exporter": "python",
   "pygments_lexer": "ipython3",
   "version": "3.7.8"
  }
 },
 "nbformat": 4,
 "nbformat_minor": 4
}
